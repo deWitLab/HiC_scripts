{
 "cells": [
  {
   "cell_type": "code",
   "execution_count": 112,
   "metadata": {
    "ExecuteTime": {
     "end_time": "2016-05-18T16:20:14.329983",
     "start_time": "2016-05-18T16:20:14.326140"
    },
    "collapsed": true
   },
   "outputs": [],
   "source": [
    "inbedpe = 'HICCUPS.bedpe.gz'\n",
    "outbedpe = 'HICCUPS_loopMerged.bedpe'"
   ]
  },
  {
   "cell_type": "code",
   "execution_count": 113,
   "metadata": {
    "ExecuteTime": {
     "end_time": "2016-05-18T16:20:15.613902",
     "start_time": "2016-05-18T16:20:15.557082"
    },
    "collapsed": false
   },
   "outputs": [],
   "source": [
    "\n",
    "bedpe = dict()\n",
    "\n",
    "import gzip\n",
    "with gzip.open(inbedpe, 'rb') as f:\n",
    "    for line in f: \n",
    "        fields = line.rstrip().split(\"\\t\")   \n",
    "        bedpe[fields[6]] = fields[0:6]\n",
    "        bedpe[fields[6]].append('\\n ')"
   ]
  },
  {
   "cell_type": "code",
   "execution_count": 114,
   "metadata": {
    "ExecuteTime": {
     "end_time": "2016-05-18T16:20:16.460209",
     "start_time": "2016-05-18T16:20:16.315326"
    },
    "collapsed": false
   },
   "outputs": [
    {
     "data": {
      "text/plain": [
       "0"
      ]
     },
     "execution_count": 114,
     "metadata": {},
     "output_type": "execute_result"
    }
   ],
   "source": [
    "import subprocess\n",
    "subprocess.call(\"zcat \" + inbedpe + \" | cut -f 1,2,3,7 | bedtools sort | bedtools merge -d 10 -c 4 -o distinct > /tmp/startMerged.bed\", shell = True)\n",
    "subprocess.call(\"zcat \" + inbedpe + \" | cut -f 4,5,6,7 | bedtools sort | bedtools merge -d 10 -c 4 -o distinct > /tmp/stopMerged.bed\", shell = True)"
   ]
  },
  {
   "cell_type": "code",
   "execution_count": 115,
   "metadata": {
    "ExecuteTime": {
     "end_time": "2016-05-18T16:20:17.625309",
     "start_time": "2016-05-18T16:20:17.558369"
    },
    "collapsed": false
   },
   "outputs": [],
   "source": [
    "Alist = list()\n",
    "Blist = list()\n",
    "\n",
    "A = open('/tmp/startMerged.bed', 'r')\n",
    "for line in A:\n",
    "    fields = line.rstrip().split(\"\\t\")\n",
    "    IDs = fields[3].split(',')\n",
    "    IDs = map(int, IDs)\n",
    "    IDs = set(IDs)\n",
    "    Alist.append(IDs)\n",
    "    \n",
    "B = open('/tmp/stopMerged.bed', 'r')\n",
    "for line in B:\n",
    "    fields = line.rstrip().split(\"\\t\")\n",
    "    IDs = fields[3].split(',')\n",
    "    IDs = map(int, IDs)\n",
    "    IDs = set(IDs)\n",
    "    Blist.append(IDs)"
   ]
  },
  {
   "cell_type": "code",
   "execution_count": 116,
   "metadata": {
    "ExecuteTime": {
     "end_time": "2016-05-18T16:20:18.511271",
     "start_time": "2016-05-18T16:20:18.497133"
    },
    "collapsed": false
   },
   "outputs": [],
   "source": [
    "Aset = map(set, Alist)\n",
    "Bset = map(set, Blist)"
   ]
  },
  {
   "cell_type": "code",
   "execution_count": 117,
   "metadata": {
    "ExecuteTime": {
     "end_time": "2016-05-18T16:20:29.042501",
     "start_time": "2016-05-18T16:20:19.534953"
    },
    "collapsed": false
   },
   "outputs": [],
   "source": [
    "MergableList = list()\n",
    "for i in Aset:\n",
    "    for j in Bset:\n",
    "        O = i.intersection(j)\n",
    "        if len(O) > 1:\n",
    "            MergableList.append(O)"
   ]
  },
  {
   "cell_type": "code",
   "execution_count": 118,
   "metadata": {
    "ExecuteTime": {
     "end_time": "2016-05-18T16:20:29.046112",
     "start_time": "2016-05-18T16:20:29.043668"
    },
    "collapsed": false
   },
   "outputs": [],
   "source": [
    "MergableList.sort(key=len, reverse=True)"
   ]
  },
  {
   "cell_type": "code",
   "execution_count": 119,
   "metadata": {
    "ExecuteTime": {
     "end_time": "2016-05-18T16:20:29.091178",
     "start_time": "2016-05-18T16:20:29.047525"
    },
    "collapsed": false
   },
   "outputs": [],
   "source": [
    "OUT = open(outbedpe, 'w')\n",
    "for e, SET in enumerate(MergableList):\n",
    "    if e > 10: \n",
    "        exit\n",
    "    lowestX1 = 0\n",
    "    higestY2 = 0\n",
    "    lowestX2 = 0\n",
    "    higestY1 = 0\n",
    "    c = 'a'\n",
    "    for E, ID in enumerate(SET):\n",
    "        ID = str(ID)\n",
    "        if E == 0:\n",
    "            c = bedpe[ID][0]\n",
    "            lowestX1 = int(bedpe[ID][1])\n",
    "            lowestY1 = int(bedpe[ID][4])\n",
    "            higestX2 = int(bedpe[ID][2] )\n",
    "            higestY2 = int(bedpe[ID][5] )\n",
    "        else:\n",
    "            if int(bedpe[ID][1]) < lowestX1:\n",
    "                lowestX1 = int(bedpe[ID][1])\n",
    "            if int(bedpe[ID][5]) > higestY2:\n",
    "                higestY2 = int(bedpe[ID][5] )\n",
    "            if int(bedpe[ID][1]) < lowestX2:\n",
    "                lowestX2 = int(bedpe[ID][2])\n",
    "            if int(bedpe[ID][4]) > higestY1:\n",
    "                higestY1 = int(bedpe[ID][4] )\n",
    "    OUT.write('\\t'.join(     map(str,[c, lowestX1, higestX2,c,lowestY1,higestY2,'\\n'])))"
   ]
  },
  {
   "cell_type": "code",
   "execution_count": 120,
   "metadata": {
    "ExecuteTime": {
     "end_time": "2016-05-18T16:20:29.113414",
     "start_time": "2016-05-18T16:20:29.092243"
    },
    "collapsed": false
   },
   "outputs": [],
   "source": [
    "for ID in set(bedpe.keys()).symmetric_difference(set(map(str,[item for sublist in MergableList for item in sublist]))):\n",
    "    OUT.write('\\t'.join(bedpe[ID]))"
   ]
  },
  {
   "cell_type": "code",
   "execution_count": 121,
   "metadata": {
    "ExecuteTime": {
     "end_time": "2016-05-18T16:20:30.896845",
     "start_time": "2016-05-18T16:20:30.894995"
    },
    "collapsed": true
   },
   "outputs": [],
   "source": [
    "OUT.close()"
   ]
  }
 ],
 "metadata": {
  "kernelspec": {
   "display_name": "Python 2",
   "language": "python",
   "name": "python2"
  },
  "language_info": {
   "codemirror_mode": {
    "name": "ipython",
    "version": 2
   },
   "file_extension": ".py",
   "mimetype": "text/x-python",
   "name": "python",
   "nbconvert_exporter": "python",
   "pygments_lexer": "ipython2",
   "version": "2.7.11"
  },
  "toc": {
   "toc_cell": false,
   "toc_number_sections": true,
   "toc_threshold": 6,
   "toc_window_display": false
  }
 },
 "nbformat": 4,
 "nbformat_minor": 0
}
